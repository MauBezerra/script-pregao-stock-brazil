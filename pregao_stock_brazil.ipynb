{
 "cells": [
  {
   "cell_type": "code",
   "execution_count": 1,
   "metadata": {},
   "outputs": [],
   "source": [
    "import yfinance as yf\n",
    "import investpy as inv\n",
    "import pandas as pd\n",
    "import datetime\n",
    "import boto3\n",
    "from io import StringIO"
   ]
  },
  {
   "cell_type": "code",
   "execution_count": 2,
   "metadata": {},
   "outputs": [],
   "source": [
    "data_atual = datetime.datetime.now()\n",
    "dt_consulta = (data_atual - datetime.timedelta(days=3)).strftime('%Y-%m-%d')"
   ]
  },
  {
   "cell_type": "code",
   "execution_count": 3,
   "metadata": {},
   "outputs": [],
   "source": [
    "br_stocks = inv.stocks.get_stocks(country='brazil')"
   ]
  },
  {
   "cell_type": "code",
   "execution_count": 4,
   "metadata": {},
   "outputs": [],
   "source": [
    "carteira = []\n",
    "\n",
    "for i in br_stocks['symbol']:\n",
    "    carteira.append(i+'.SA')"
   ]
  },
  {
   "cell_type": "code",
   "execution_count": null,
   "metadata": {},
   "outputs": [],
   "source": [
    "df = yf.download(carteira, start = dt_consulta, end= dt_consulta)\n",
    "df_adj_close = df['Adj Close']\n",
    "\n",
    "df_pivot = df_adj_close.reset_index().melt(id_vars=['Date'], var_name='Stock', value_name='Price')"
   ]
  },
  {
   "cell_type": "code",
   "execution_count": 6,
   "metadata": {},
   "outputs": [
    {
     "data": {
      "text/html": [
       "<div>\n",
       "<style scoped>\n",
       "    .dataframe tbody tr th:only-of-type {\n",
       "        vertical-align: middle;\n",
       "    }\n",
       "\n",
       "    .dataframe tbody tr th {\n",
       "        vertical-align: top;\n",
       "    }\n",
       "\n",
       "    .dataframe thead th {\n",
       "        text-align: right;\n",
       "    }\n",
       "</style>\n",
       "<table border=\"1\" class=\"dataframe\">\n",
       "  <thead>\n",
       "    <tr style=\"text-align: right;\">\n",
       "      <th></th>\n",
       "      <th>Date</th>\n",
       "      <th>Stock</th>\n",
       "      <th>Price</th>\n",
       "    </tr>\n",
       "  </thead>\n",
       "  <tbody>\n",
       "  </tbody>\n",
       "</table>\n",
       "</div>"
      ],
      "text/plain": [
       "Empty DataFrame\n",
       "Columns: [Date, Stock, Price]\n",
       "Index: []"
      ]
     },
     "execution_count": 6,
     "metadata": {},
     "output_type": "execute_result"
    }
   ],
   "source": [
    "df_pivot"
   ]
  },
  {
   "cell_type": "code",
   "execution_count": 7,
   "metadata": {},
   "outputs": [
    {
     "name": "stdout",
     "output_type": "stream",
     "text": [
      "O arquivo 'stock_brazil.csv' foi salvo com sucesso no bucket 'tech-challenge-big-data'\n"
     ]
    }
   ],
   "source": [
    "# Configurações do AWS S3\n",
    "bucket_name = 'nome-do-bucket'\n",
    "file_name = 'stock_brazil.csv'\n",
    "access_key = 'access_key'\n",
    "secret_key = 'secret_key'\n",
    "session_token = 'session_token'\n",
    "\n",
    "# Criando a sessão do boto3 com as credenciais\n",
    "session = boto3.Session(\n",
    "    aws_access_key_id=access_key,\n",
    "    aws_secret_access_key=secret_key,\n",
    "    aws_session_token=session_token\n",
    ")\n",
    "\n",
    "# Criando um cliente para o S3\n",
    "s3 = session.client('s3')\n",
    "\n",
    "# Convertendo o DataFrame para CSV usando StringIO\n",
    "csv_buffer = StringIO()\n",
    "df_pivot.to_csv(csv_buffer, index=False)\n",
    "\n",
    "# Salvando o CSV no bucket S3\n",
    "s3.put_object(Bucket=bucket_name, Key=file_name, Body=csv_buffer.getvalue())\n",
    "\n",
    "print(f\"O arquivo '{file_name}' foi salvo com sucesso no bucket '{bucket_name}'\")"
   ]
  }
 ],
 "metadata": {
  "kernelspec": {
   "display_name": "Python 3",
   "language": "python",
   "name": "python3"
  },
  "language_info": {
   "codemirror_mode": {
    "name": "ipython",
    "version": 3
   },
   "file_extension": ".py",
   "mimetype": "text/x-python",
   "name": "python",
   "nbconvert_exporter": "python",
   "pygments_lexer": "ipython3",
   "version": "3.9.6"
  }
 },
 "nbformat": 4,
 "nbformat_minor": 2
}
